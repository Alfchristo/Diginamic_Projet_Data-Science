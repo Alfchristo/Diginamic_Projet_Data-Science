{
 "cells": [
  {
   "cell_type": "markdown",
   "source": [
    "<h1> Explorations et traitements de données diabètes </h1>"
   ],
   "metadata": {
    "collapsed": false
   },
   "id": "ca39ac5b97e21449"
  },
  {
   "cell_type": "markdown",
   "source": [
    "[Importation des données](#1)\n",
    "[Analyse descriptive du dataframe](#2)\n",
    "[Graphique de distribution et pairplot](#3)\n",
    "[Correlation avec la target](#4)\n",
    "[Fréquences](#5)\n",
    "[Standardisation](#6)\n",
    "[Valeur manquante et gestion](#7)\n",
    "\n"
   ],
   "metadata": {
    "collapsed": false
   },
   "id": "2ef04e0ce0148a8e"
  },
  {
   "cell_type": "markdown",
   "source": [
    "<a id=\"1\"><h3> Import des données </h3>\n",
    "</a>"
   ],
   "metadata": {
    "collapsed": false
   },
   "id": "619f7bb50dd887c"
  },
  {
   "cell_type": "code",
   "outputs": [],
   "source": [
    "import numpy as np\n",
    "from math import pi\n",
    "import pandas as pd\n",
    "import seaborn as sns\n",
    "import matplotlib.pyplot as plt\n",
    "import random \n",
    "from tqdm.notebook import *\n",
    "import warnings\n",
    "%matplotlib inline\n",
    "warnings.filterwarnings('ignore')"
   ],
   "metadata": {
    "collapsed": false,
    "ExecuteTime": {
     "end_time": "2024-02-28T12:27:59.456716100Z",
     "start_time": "2024-02-28T12:27:59.444675200Z"
    }
   },
   "id": "a08ecb8568d9456d",
   "execution_count": 6
  },
  {
   "cell_type": "code",
   "outputs": [],
   "source": [
    "df = pd.read_csv(r'../dataset/diabete.csv', sep=',')"
   ],
   "metadata": {
    "collapsed": false,
    "ExecuteTime": {
     "end_time": "2024-02-28T12:28:02.737295200Z",
     "start_time": "2024-02-28T12:28:02.728286300Z"
    }
   },
   "id": "566331176cb76e00",
   "execution_count": 7
  },
  {
   "cell_type": "code",
   "outputs": [
    {
     "data": {
      "text/plain": "   Unnamed: 0       age       sex       bmi        bp        s1        s2  \\\n0           0  0.038076  0.050680  0.061696  0.021872 -0.044223 -0.034821   \n1           1 -0.001882 -0.044642 -0.051474 -0.026328 -0.008449 -0.019163   \n2           2  0.085299  0.050680  0.044451 -0.005670 -0.045599 -0.034194   \n3           3 -0.089063 -0.044642 -0.011595 -0.036656  0.012191  0.024991   \n4           4  0.005383 -0.044642 -0.036385  0.021872  0.003935  0.015596   \n\n         s3        s4        s5        s6  target  \n0 -0.043401 -0.002592  0.019907 -0.017646   151.0  \n1  0.074412 -0.039493 -0.068332 -0.092204    75.0  \n2 -0.032356 -0.002592  0.002861 -0.025930   141.0  \n3 -0.036038  0.034309  0.022688 -0.009362   206.0  \n4  0.008142 -0.002592 -0.031988 -0.046641   135.0  ",
      "text/html": "<div>\n<style scoped>\n    .dataframe tbody tr th:only-of-type {\n        vertical-align: middle;\n    }\n\n    .dataframe tbody tr th {\n        vertical-align: top;\n    }\n\n    .dataframe thead th {\n        text-align: right;\n    }\n</style>\n<table border=\"1\" class=\"dataframe\">\n  <thead>\n    <tr style=\"text-align: right;\">\n      <th></th>\n      <th>Unnamed: 0</th>\n      <th>age</th>\n      <th>sex</th>\n      <th>bmi</th>\n      <th>bp</th>\n      <th>s1</th>\n      <th>s2</th>\n      <th>s3</th>\n      <th>s4</th>\n      <th>s5</th>\n      <th>s6</th>\n      <th>target</th>\n    </tr>\n  </thead>\n  <tbody>\n    <tr>\n      <th>0</th>\n      <td>0</td>\n      <td>0.038076</td>\n      <td>0.050680</td>\n      <td>0.061696</td>\n      <td>0.021872</td>\n      <td>-0.044223</td>\n      <td>-0.034821</td>\n      <td>-0.043401</td>\n      <td>-0.002592</td>\n      <td>0.019907</td>\n      <td>-0.017646</td>\n      <td>151.0</td>\n    </tr>\n    <tr>\n      <th>1</th>\n      <td>1</td>\n      <td>-0.001882</td>\n      <td>-0.044642</td>\n      <td>-0.051474</td>\n      <td>-0.026328</td>\n      <td>-0.008449</td>\n      <td>-0.019163</td>\n      <td>0.074412</td>\n      <td>-0.039493</td>\n      <td>-0.068332</td>\n      <td>-0.092204</td>\n      <td>75.0</td>\n    </tr>\n    <tr>\n      <th>2</th>\n      <td>2</td>\n      <td>0.085299</td>\n      <td>0.050680</td>\n      <td>0.044451</td>\n      <td>-0.005670</td>\n      <td>-0.045599</td>\n      <td>-0.034194</td>\n      <td>-0.032356</td>\n      <td>-0.002592</td>\n      <td>0.002861</td>\n      <td>-0.025930</td>\n      <td>141.0</td>\n    </tr>\n    <tr>\n      <th>3</th>\n      <td>3</td>\n      <td>-0.089063</td>\n      <td>-0.044642</td>\n      <td>-0.011595</td>\n      <td>-0.036656</td>\n      <td>0.012191</td>\n      <td>0.024991</td>\n      <td>-0.036038</td>\n      <td>0.034309</td>\n      <td>0.022688</td>\n      <td>-0.009362</td>\n      <td>206.0</td>\n    </tr>\n    <tr>\n      <th>4</th>\n      <td>4</td>\n      <td>0.005383</td>\n      <td>-0.044642</td>\n      <td>-0.036385</td>\n      <td>0.021872</td>\n      <td>0.003935</td>\n      <td>0.015596</td>\n      <td>0.008142</td>\n      <td>-0.002592</td>\n      <td>-0.031988</td>\n      <td>-0.046641</td>\n      <td>135.0</td>\n    </tr>\n  </tbody>\n</table>\n</div>"
     },
     "execution_count": 8,
     "metadata": {},
     "output_type": "execute_result"
    }
   ],
   "source": [
    "df.head()"
   ],
   "metadata": {
    "collapsed": false,
    "ExecuteTime": {
     "end_time": "2024-02-28T12:28:03.442764200Z",
     "start_time": "2024-02-28T12:28:03.430729700Z"
    }
   },
   "id": "1e49322f730ed885",
   "execution_count": 8
  },
  {
   "cell_type": "code",
   "outputs": [
    {
     "data": {
      "text/plain": "(442, 12)"
     },
     "execution_count": 9,
     "metadata": {},
     "output_type": "execute_result"
    }
   ],
   "source": [
    "df.shape"
   ],
   "metadata": {
    "collapsed": false,
    "ExecuteTime": {
     "end_time": "2024-02-28T12:28:04.271066100Z",
     "start_time": "2024-02-28T12:28:04.259912500Z"
    }
   },
   "id": "331f3e0d3d5ee34e",
   "execution_count": 9
  },
  {
   "cell_type": "code",
   "outputs": [
    {
     "data": {
      "text/plain": "       Unnamed: 0           age           sex           bmi            bp  \\\ncount  442.000000  4.420000e+02  4.420000e+02  4.420000e+02  4.420000e+02   \nmean   220.500000 -7.284269e-18  2.348549e-17 -2.087320e-16 -4.571507e-17   \nstd    127.738666  4.761905e-02  4.761905e-02  4.761905e-02  4.761905e-02   \nmin      0.000000 -1.072256e-01 -4.464164e-02 -9.027530e-02 -1.123988e-01   \n25%    110.250000 -3.729927e-02 -4.464164e-02 -3.422907e-02 -3.665608e-02   \n50%    220.500000  5.383060e-03 -4.464164e-02 -7.283766e-03 -5.670422e-03   \n75%    330.750000  3.807591e-02  5.068012e-02  3.124802e-02  3.564379e-02   \nmax    441.000000  1.107267e-01  5.068012e-02  1.705552e-01  1.320436e-01   \n\n                 s1            s2            s3            s4            s5  \\\ncount  4.420000e+02  4.420000e+02  4.420000e+02  4.420000e+02  4.420000e+02   \nmean  -9.293722e-18  4.420798e-17  2.135044e-18  2.913707e-17  9.143013e-17   \nstd    4.761905e-02  4.761905e-02  4.761905e-02  4.761905e-02  4.761905e-02   \nmin   -1.267807e-01 -1.156131e-01 -1.023071e-01 -7.639450e-02 -1.260971e-01   \n25%   -3.424784e-02 -3.035840e-02 -3.511716e-02 -3.949338e-02 -3.324559e-02   \n50%   -4.320866e-03 -3.819065e-03 -6.584468e-03 -2.592262e-03 -1.947171e-03   \n75%    2.835801e-02  2.984439e-02  2.931150e-02  3.430886e-02  3.243232e-02   \nmax    1.539137e-01  1.987880e-01  1.811791e-01  1.852344e-01  1.335973e-01   \n\n                 s6      target  \ncount  4.420000e+02  442.000000  \nmean   1.431736e-17  152.133484  \nstd    4.761905e-02   77.093005  \nmin   -1.377672e-01   25.000000  \n25%   -3.317903e-02   87.000000  \n50%   -1.077698e-03  140.500000  \n75%    2.791705e-02  211.500000  \nmax    1.356118e-01  346.000000  ",
      "text/html": "<div>\n<style scoped>\n    .dataframe tbody tr th:only-of-type {\n        vertical-align: middle;\n    }\n\n    .dataframe tbody tr th {\n        vertical-align: top;\n    }\n\n    .dataframe thead th {\n        text-align: right;\n    }\n</style>\n<table border=\"1\" class=\"dataframe\">\n  <thead>\n    <tr style=\"text-align: right;\">\n      <th></th>\n      <th>Unnamed: 0</th>\n      <th>age</th>\n      <th>sex</th>\n      <th>bmi</th>\n      <th>bp</th>\n      <th>s1</th>\n      <th>s2</th>\n      <th>s3</th>\n      <th>s4</th>\n      <th>s5</th>\n      <th>s6</th>\n      <th>target</th>\n    </tr>\n  </thead>\n  <tbody>\n    <tr>\n      <th>count</th>\n      <td>442.000000</td>\n      <td>4.420000e+02</td>\n      <td>4.420000e+02</td>\n      <td>4.420000e+02</td>\n      <td>4.420000e+02</td>\n      <td>4.420000e+02</td>\n      <td>4.420000e+02</td>\n      <td>4.420000e+02</td>\n      <td>4.420000e+02</td>\n      <td>4.420000e+02</td>\n      <td>4.420000e+02</td>\n      <td>442.000000</td>\n    </tr>\n    <tr>\n      <th>mean</th>\n      <td>220.500000</td>\n      <td>-7.284269e-18</td>\n      <td>2.348549e-17</td>\n      <td>-2.087320e-16</td>\n      <td>-4.571507e-17</td>\n      <td>-9.293722e-18</td>\n      <td>4.420798e-17</td>\n      <td>2.135044e-18</td>\n      <td>2.913707e-17</td>\n      <td>9.143013e-17</td>\n      <td>1.431736e-17</td>\n      <td>152.133484</td>\n    </tr>\n    <tr>\n      <th>std</th>\n      <td>127.738666</td>\n      <td>4.761905e-02</td>\n      <td>4.761905e-02</td>\n      <td>4.761905e-02</td>\n      <td>4.761905e-02</td>\n      <td>4.761905e-02</td>\n      <td>4.761905e-02</td>\n      <td>4.761905e-02</td>\n      <td>4.761905e-02</td>\n      <td>4.761905e-02</td>\n      <td>4.761905e-02</td>\n      <td>77.093005</td>\n    </tr>\n    <tr>\n      <th>min</th>\n      <td>0.000000</td>\n      <td>-1.072256e-01</td>\n      <td>-4.464164e-02</td>\n      <td>-9.027530e-02</td>\n      <td>-1.123988e-01</td>\n      <td>-1.267807e-01</td>\n      <td>-1.156131e-01</td>\n      <td>-1.023071e-01</td>\n      <td>-7.639450e-02</td>\n      <td>-1.260971e-01</td>\n      <td>-1.377672e-01</td>\n      <td>25.000000</td>\n    </tr>\n    <tr>\n      <th>25%</th>\n      <td>110.250000</td>\n      <td>-3.729927e-02</td>\n      <td>-4.464164e-02</td>\n      <td>-3.422907e-02</td>\n      <td>-3.665608e-02</td>\n      <td>-3.424784e-02</td>\n      <td>-3.035840e-02</td>\n      <td>-3.511716e-02</td>\n      <td>-3.949338e-02</td>\n      <td>-3.324559e-02</td>\n      <td>-3.317903e-02</td>\n      <td>87.000000</td>\n    </tr>\n    <tr>\n      <th>50%</th>\n      <td>220.500000</td>\n      <td>5.383060e-03</td>\n      <td>-4.464164e-02</td>\n      <td>-7.283766e-03</td>\n      <td>-5.670422e-03</td>\n      <td>-4.320866e-03</td>\n      <td>-3.819065e-03</td>\n      <td>-6.584468e-03</td>\n      <td>-2.592262e-03</td>\n      <td>-1.947171e-03</td>\n      <td>-1.077698e-03</td>\n      <td>140.500000</td>\n    </tr>\n    <tr>\n      <th>75%</th>\n      <td>330.750000</td>\n      <td>3.807591e-02</td>\n      <td>5.068012e-02</td>\n      <td>3.124802e-02</td>\n      <td>3.564379e-02</td>\n      <td>2.835801e-02</td>\n      <td>2.984439e-02</td>\n      <td>2.931150e-02</td>\n      <td>3.430886e-02</td>\n      <td>3.243232e-02</td>\n      <td>2.791705e-02</td>\n      <td>211.500000</td>\n    </tr>\n    <tr>\n      <th>max</th>\n      <td>441.000000</td>\n      <td>1.107267e-01</td>\n      <td>5.068012e-02</td>\n      <td>1.705552e-01</td>\n      <td>1.320436e-01</td>\n      <td>1.539137e-01</td>\n      <td>1.987880e-01</td>\n      <td>1.811791e-01</td>\n      <td>1.852344e-01</td>\n      <td>1.335973e-01</td>\n      <td>1.356118e-01</td>\n      <td>346.000000</td>\n    </tr>\n  </tbody>\n</table>\n</div>"
     },
     "execution_count": 16,
     "metadata": {},
     "output_type": "execute_result"
    }
   ],
   "source": [
    "df.describe()"
   ],
   "metadata": {
    "collapsed": false,
    "ExecuteTime": {
     "end_time": "2024-02-28T12:37:26.168827200Z",
     "start_time": "2024-02-28T12:37:26.137267400Z"
    }
   },
   "id": "bc417194e076e5bf",
   "execution_count": 16
  },
  {
   "cell_type": "markdown",
   "source": [
    "<a id=\"2\"><h3> Analyse descriptive du dataframe </h3>\n",
    "</a>"
   ],
   "metadata": {
    "collapsed": false
   },
   "id": "dd1233d5b76d3175"
  },
  {
   "cell_type": "markdown",
   "source": [
    "Description du jeux de données\n",
    "- Unnamed: 0       \n",
    "- age       \n",
    "sex       \n",
    "bmi        \n",
    "bp        \n",
    "s1        \n",
    "s2 \n",
    "s3        \n",
    "s4        \n",
    "s5        \n",
    "s6  \n",
    "target"
   ],
   "metadata": {
    "collapsed": false
   },
   "id": "7d0d308ef1cd709"
  },
  {
   "cell_type": "code",
   "outputs": [
    {
     "name": "stdout",
     "output_type": "stream",
     "text": [
      "<class 'pandas.core.frame.DataFrame'>\n",
      "RangeIndex: 442 entries, 0 to 441\n",
      "Data columns (total 12 columns):\n",
      " #   Column      Non-Null Count  Dtype  \n",
      "---  ------      --------------  -----  \n",
      " 0   Unnamed: 0  442 non-null    int64  \n",
      " 1   age         442 non-null    float64\n",
      " 2   sex         442 non-null    float64\n",
      " 3   bmi         442 non-null    float64\n",
      " 4   bp          442 non-null    float64\n",
      " 5   s1          442 non-null    float64\n",
      " 6   s2          442 non-null    float64\n",
      " 7   s3          442 non-null    float64\n",
      " 8   s4          442 non-null    float64\n",
      " 9   s5          442 non-null    float64\n",
      " 10  s6          442 non-null    float64\n",
      " 11  target      442 non-null    float64\n",
      "dtypes: float64(11), int64(1)\n",
      "memory usage: 41.6 KB\n"
     ]
    }
   ],
   "source": [
    "df.info()"
   ],
   "metadata": {
    "collapsed": false,
    "ExecuteTime": {
     "end_time": "2024-02-28T12:37:53.437386800Z",
     "start_time": "2024-02-28T12:37:53.423931500Z"
    }
   },
   "id": "5669e8f92f28f247",
   "execution_count": 17
  },
  {
   "cell_type": "code",
   "outputs": [
    {
     "name": "stdout",
     "output_type": "stream",
     "text": [
      "Distribution de notre target:\n"
     ]
    },
    {
     "data": {
      "text/plain": "<Axes: >"
     },
     "execution_count": 13,
     "metadata": {},
     "output_type": "execute_result"
    },
    {
     "data": {
      "text/plain": "<Figure size 640x480 with 1 Axes>",
      "image/png": "[encoded data removed]"
     },
     "metadata": {},
     "output_type": "display_data"
    }
   ],
   "source": [
    "print(\"Distribution de notre target:\")\n",
    "df['target'].hist()"
   ],
   "metadata": {
    "collapsed": false,
    "ExecuteTime": {
     "end_time": "2024-02-28T12:31:40.206145800Z",
     "start_time": "2024-02-28T12:31:40.034619800Z"
    }
   },
   "id": "ffd6473bc871e8ae",
   "execution_count": 13
  },
  {
   "cell_type": "markdown",
   "source": [
    "<h3> Analyses NA </h3>"
   ],
   "metadata": {
    "collapsed": false
   },
   "id": "9ec19634b49618df"
  },
  {
   "cell_type": "code",
   "outputs": [
    {
     "name": "stdout",
     "output_type": "stream",
     "text": [
      "------ Total de Na: ------\n",
      "age       0\n",
      "sex       0\n",
      "bmi       0\n",
      "bp        0\n",
      "s1        0\n",
      "s2        0\n",
      "s3        0\n",
      "s4        0\n",
      "s5        0\n",
      "s6        0\n",
      "target    0\n",
      "dtype: int64\n",
      "------ Verif de Na: ------\n",
      "age       False\n",
      "sex       False\n",
      "bmi       False\n",
      "bp        False\n",
      "s1        False\n",
      "s2        False\n",
      "s3        False\n",
      "s4        False\n",
      "s5        False\n",
      "s6        False\n",
      "target    False\n",
      "dtype: bool\n"
     ]
    }
   ],
   "source": [
    "print(\"------ Total de Na: ------\") \n",
    "print(df.isna().sum())\n",
    "print(\"------ Verif de Na: ------\") \n",
    "print(df.isna().any())"
   ],
   "metadata": {
    "collapsed": false,
    "ExecuteTime": {
     "end_time": "2024-02-28T12:49:08.563714400Z",
     "start_time": "2024-02-28T12:49:08.550596500Z"
    }
   },
   "id": "8a4bdc7064c3a47a",
   "execution_count": 41
  },
  {
   "cell_type": "markdown",
   "source": [
    "Pas de valeurs NA"
   ],
   "metadata": {
    "collapsed": false
   },
   "id": "fefc5e6903144ad"
  },
  {
   "cell_type": "markdown",
   "source": [
    "<h3> Drops columns non nécéssaire </h3>"
   ],
   "metadata": {
    "collapsed": false
   },
   "id": "8a1aeb9556a33c1d"
  },
  {
   "cell_type": "code",
   "outputs": [
    {
     "name": "stdout",
     "output_type": "stream",
     "text": [
      "0        0\n",
      "1        1\n",
      "2        2\n",
      "3        3\n",
      "4        4\n",
      "      ... \n",
      "437    437\n",
      "438    438\n",
      "439    439\n",
      "440    440\n",
      "441    441\n",
      "Name: Unnamed: 0, Length: 442, dtype: int64 La colonne Unnamed: 0 contient des valeurs type index et est donc redontante et non pertinentes, on peut le drop\n"
     ]
    }
   ],
   "source": [
    "print(df['Unnamed: 0'], \"La colonne Unnamed: 0 contient des valeurs type index et est donc redontante et non pertinentes, on peut le drop\")\n",
    "df.drop('Unnamed: 0', axis=1, inplace=True)"
   ],
   "metadata": {
    "collapsed": false,
    "ExecuteTime": {
     "end_time": "2024-02-28T12:44:37.922920700Z",
     "start_time": "2024-02-28T12:44:37.912227800Z"
    }
   },
   "id": "5fb7e5ecb9416a66",
   "execution_count": 24
  },
  {
   "cell_type": "code",
   "outputs": [
    {
     "data": {
      "text/plain": "Index(['age', 'sex', 'bmi', 'bp', 's1', 's2', 's3', 's4', 's5', 's6',\n       'target'],\n      dtype='object')"
     },
     "execution_count": 25,
     "metadata": {},
     "output_type": "execute_result"
    }
   ],
   "source": [
    "# On vérifie que ça a bien été retiré\n",
    "df.columns"
   ],
   "metadata": {
    "collapsed": false,
    "ExecuteTime": {
     "end_time": "2024-02-28T12:44:45.589450700Z",
     "start_time": "2024-02-28T12:44:45.579898100Z"
    }
   },
   "id": "af47651c8e5d875f",
   "execution_count": 25
  },
  {
   "cell_type": "code",
   "outputs": [
    {
     "data": {
      "text/plain": "age       False\nsex       False\nbmi       False\nbp        False\ns1        False\ns2        False\ns3        False\ns4        False\ns5        False\ns6        False\ntarget    False\ndtype: bool"
     },
     "execution_count": 26,
     "metadata": {},
     "output_type": "execute_result"
    }
   ],
   "source": [
    "df.isna().any()"
   ],
   "metadata": {
    "collapsed": false,
    "ExecuteTime": {
     "end_time": "2024-02-28T12:45:30.656714600Z",
     "start_time": "2024-02-28T12:45:30.645730400Z"
    }
   },
   "id": "5e9ff423bffc370d",
   "execution_count": 26
  },
  {
   "cell_type": "markdown",
   "source": [
    "<h4>Nos données sont déja standardisé, il n'a pas de NA et les colonnes not nécéssaires on été retirer. On va maintenant passer à une analyse visuels de nos données </h4>"
   ],
   "metadata": {
    "collapsed": false
   },
   "id": "ce19c3a6d3bc582a"
  },
  {
   "cell_type": "markdown",
   "source": [
    "<a id=\"3\"><h3> Graphique de distribution et pairplot </h3>\n",
    "</a>"
   ],
   "metadata": {
    "collapsed": false
   },
   "id": "c21e6f0f278e817a"
  },
  {
   "cell_type": "markdown",
   "source": [
    "<a id=\"4\"><h3> Correlation avec la target </h3>\n",
    "</a>"
   ],
   "metadata": {
    "collapsed": false
   },
   "id": "91139269a5020e48"
  },
  {
   "cell_type": "markdown",
   "source": [
    "<a id=\"5\"><h3> Fréquences </h3>\n",
    "</a>"
   ],
   "metadata": {
    "collapsed": false
   },
   "id": "8fe7a53d20294e24"
  },
  {
   "cell_type": "markdown",
   "source": [
    "<a id=\"6\"><h3> Standardisation </h3>\n",
    "</a>"
   ],
   "metadata": {
    "collapsed": false
   },
   "id": "11b195f426262b18"
  },
  {
   "cell_type": "markdown",
   "source": [
    "<a id=\"7\"><h3> Valeur manquante et gestion </h3>\n",
    "</a>"
   ],
   "metadata": {
    "collapsed": false
   },
   "id": "e2358659b3d43bd1"
  },
  {
   "cell_type": "code",
   "outputs": [],
   "source": [],
   "metadata": {
    "collapsed": false
   },
   "id": "b24de2c07b36e39"
  }
 ],
 "metadata": {
  "kernelspec": {
   "display_name": "Python 3",
   "language": "python",
   "name": "python3"
  },
  "language_info": {
   "codemirror_mode": {
    "name": "ipython",
    "version": 2
   },
   "file_extension": ".py",
   "mimetype": "text/x-python",
   "name": "python",
   "nbconvert_exporter": "python",
   "pygments_lexer": "ipython2",
   "version": "2.7.6"
  }
 },
 "nbformat": 4,
 "nbformat_minor": 5
}
